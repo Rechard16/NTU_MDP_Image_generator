{
 "cells": [
  {
   "cell_type": "code",
   "execution_count": 2,
   "id": "initial_id",
   "metadata": {
    "collapsed": true,
    "ExecuteTime": {
     "end_time": "2024-09-13T15:35:27.971089Z",
     "start_time": "2024-09-13T15:35:27.969084700Z"
    }
   },
   "outputs": [],
   "source": [
    "from PIL import Image\n",
    "import numpy as np\n",
    "import matplotlib.pyplot as plt\n",
    "import matplotlib.patches as patches\n",
    "import os"
   ]
  },
  {
   "cell_type": "code",
   "execution_count": 3,
   "outputs": [
    {
     "data": {
      "text/plain": "['1_1.png',\n '1_10.png',\n '1_11.png',\n '1_12.png',\n '1_13.png',\n '1_14.png',\n '1_15.png',\n '1_16.png',\n '1_17.png',\n '1_18.png',\n '1_19.png',\n '1_2.png',\n '1_20.png',\n '1_21.png',\n '1_22.png',\n '1_23.png',\n '1_24.png',\n '1_25.png',\n '1_26.png',\n '1_27.png',\n '1_28.png',\n '1_29.png',\n '1_3.png',\n '1_30.png',\n '1_4.png',\n '1_5.png',\n '1_6.png',\n '1_7.png',\n '1_8.png',\n '1_9.png',\n '2_1.png',\n '2_10.png',\n '2_11.png',\n '2_12.png',\n '2_13.png',\n '2_14.png',\n '2_15.png',\n '2_16.png',\n '2_17.png',\n '2_18.png',\n '2_19.png',\n '2_2.png',\n '2_20.png',\n '2_21.png',\n '2_22.png',\n '2_23.png',\n '2_24.png',\n '2_25.png',\n '2_26.png',\n '2_27.png',\n '2_28.png',\n '2_29.png',\n '2_3.png',\n '2_30.png',\n '2_4.png',\n '2_5.png',\n '2_6.png',\n '2_7.png',\n '2_8.png',\n '2_9.png',\n '3_1.png',\n '3_10.png',\n '3_11.png',\n '3_12.png',\n '3_13.png',\n '3_14.png',\n '3_15.png',\n '3_16.png',\n '3_17.png',\n '3_18.png',\n '3_19.png',\n '3_2.png',\n '3_20.png',\n '3_21.png',\n '3_22.png',\n '3_23.png',\n '3_24.png',\n '3_25.png',\n '3_26.png',\n '3_27.png',\n '3_28.png',\n '3_29.png',\n '3_3.png',\n '3_30.png',\n '3_4.png',\n '3_5.png',\n '3_6.png',\n '3_7.png',\n '3_8.png',\n '3_9.png',\n '4_1.png',\n '4_10.png',\n '4_11.png',\n '4_12.png',\n '4_13.png',\n '4_14.png',\n '4_15.png',\n '4_16.png',\n '4_17.png',\n '4_18.png',\n '4_19.png',\n '4_2.png',\n '4_20.png',\n '4_21.png',\n '4_22.png',\n '4_23.png',\n '4_24.png',\n '4_25.png',\n '4_26.png',\n '4_27.png',\n '4_28.png',\n '4_29.png',\n '4_3.png',\n '4_30.png',\n '4_4.png',\n '4_5.png',\n '4_6.png',\n '4_7.png',\n '4_8.png',\n '4_9.png',\n '5_1.png',\n '5_10.png',\n '5_11.png',\n '5_12.png',\n '5_13.png',\n '5_14.png',\n '5_15.png',\n '5_16.png',\n '5_17.png',\n '5_18.png',\n '5_19.png',\n '5_2.png',\n '5_20.png',\n '5_21.png',\n '5_22.png',\n '5_23.png',\n '5_24.png',\n '5_25.png',\n '5_26.png',\n '5_27.png',\n '5_28.png',\n '5_29.png',\n '5_3.png',\n '5_30.png',\n '5_4.png',\n '5_5.png',\n '5_6.png',\n '5_7.png',\n '5_8.png',\n '5_9.png']"
     },
     "execution_count": 3,
     "metadata": {},
     "output_type": "execute_result"
    }
   ],
   "source": [
    "# Load image set\n",
    "img_list = os.listdir('pic2')\n",
    "img_list"
   ],
   "metadata": {
    "collapsed": false,
    "ExecuteTime": {
     "end_time": "2024-09-13T15:35:41.418561500Z",
     "start_time": "2024-09-13T15:35:41.414531300Z"
    }
   },
   "id": "3a783a4b8c7e4ef4"
  },
  {
   "cell_type": "code",
   "execution_count": 10,
   "outputs": [],
   "source": [
    "#put all image in the size of 6cm*6cm on A4 paper \n",
    "#create a new image with size of A4 paper 21cm*29.7cm\n",
    "A4 = Image.new('RGB', (2480, 3508), (255, 255, 255))\n",
    "#put image on A4 paper with size of 6cm*6cm, 3 images in a row, 4 images in a column; 1cm margin between images\n",
    "#split the image as 12 pic a group,150 pic in total\n",
    "for i in range(0, 150//12):\n",
    "    img1 = Image.open('pic2/' + img_list[i*12])\n",
    "    img2 = Image.open('pic2/' + img_list[i*12+1])\n",
    "    img3 = Image.open('pic2/' + img_list[i*12+2])\n",
    "    img4 = Image.open('pic2/' + img_list[i*12+3])\n",
    "    img5 = Image.open('pic2/' + img_list[i*12+4])\n",
    "    img6 = Image.open('pic2/' + img_list[i*12+5])\n",
    "    img7 = Image.open('pic2/' + img_list[i*12+6])\n",
    "    img8 = Image.open('pic2/' + img_list[i*12+7])\n",
    "    img9 = Image.open('pic2/' + img_list[i*12+8])\n",
    "    img10 = Image.open('pic2/' + img_list[i*12+9])\n",
    "    img11 = Image.open('pic2/' + img_list[i*12+10])\n",
    "    img12 = Image.open('pic2/' + img_list[i*12+11])\n",
    "    A4.paste(img1, (50, 50))\n",
    "    A4.paste(img2, (50+600+250, 50))\n",
    "    A4.paste(img3, (50+600+250+600+250, 50))\n",
    "    A4.paste(img4, (50, 50+600+250))\n",
    "    A4.paste(img5, (50+600+250, 50+600+250))\n",
    "    A4.paste(img6, (50+600+250+600+250, 50+600+250))\n",
    "    A4.paste(img7, (50, 50+600+250+600+250))\n",
    "    A4.paste(img8, (50+600+250, 50+600+250+600+250))\n",
    "    A4.paste(img9, (50+600+250+600+250, 50+600+250+600+250))\n",
    "    A4.paste(img10, (50, 50+600+250+600+250+600+250))\n",
    "    A4.paste(img11, (50+600+250, 50+600+250+600+250+600+250))\n",
    "    A4.paste(img12, (50+600+250+600+250, 50+600+250+600+250+600+250))\n",
    "    A4.save('pic3/A4_' + str(i) + '.jpg')\n"
   ],
   "metadata": {
    "collapsed": false,
    "ExecuteTime": {
     "end_time": "2024-09-13T15:46:56.529601900Z",
     "start_time": "2024-09-13T15:46:55.582926400Z"
    }
   },
   "id": "d8de4c17704d734f"
  },
  {
   "cell_type": "code",
   "execution_count": null,
   "outputs": [],
   "source": [],
   "metadata": {
    "collapsed": false
   },
   "id": "7d39dfdd75098882"
  }
 ],
 "metadata": {
  "kernelspec": {
   "display_name": "Python 3",
   "language": "python",
   "name": "python3"
  },
  "language_info": {
   "codemirror_mode": {
    "name": "ipython",
    "version": 2
   },
   "file_extension": ".py",
   "mimetype": "text/x-python",
   "name": "python",
   "nbconvert_exporter": "python",
   "pygments_lexer": "ipython2",
   "version": "2.7.6"
  }
 },
 "nbformat": 4,
 "nbformat_minor": 5
}
