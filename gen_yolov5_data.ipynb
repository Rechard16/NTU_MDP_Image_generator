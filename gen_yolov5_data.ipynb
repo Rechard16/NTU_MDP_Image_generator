{
 "cells": [
  {
   "cell_type": "code",
   "execution_count": 1,
   "id": "initial_id",
   "metadata": {
    "collapsed": true,
    "ExecuteTime": {
     "end_time": "2024-09-13T15:22:10.978585Z",
     "start_time": "2024-09-13T15:22:10.702102300Z"
    }
   },
   "outputs": [],
   "source": [
    "import random\n",
    "\n",
    "from PIL import Image,ImageFilter\n",
    "import numpy as np\n",
    "import matplotlib.pyplot as plt\n",
    "import matplotlib.patches as patches\n",
    "import cv2"
   ]
  },
  {
   "cell_type": "code",
   "execution_count": 2,
   "outputs": [],
   "source": [
    "#generate the yolov5 dataset\n",
    "object_img_path=\"pic1/1.png\"\n",
    "img=Image.open(object_img_path)\n",
    "img=img.convert(\"RGBA\")\n",
    "#recolor the image"
   ],
   "metadata": {
    "collapsed": false,
    "ExecuteTime": {
     "end_time": "2024-09-13T15:22:13.187740400Z",
     "start_time": "2024-09-13T15:22:13.142744800Z"
    }
   },
   "id": "a340446899cbee02"
  },
  {
   "cell_type": "code",
   "execution_count": 3,
   "outputs": [],
   "source": [
    "def colorize(img, color):\n",
    "    tar=np.array(img)\n",
    "    for c in range(3):\n",
    "        tar[:,:,c]=np.where(tar[:,:,3]>0,color[c],tar[:,:,c])\n",
    "    return tar"
   ],
   "metadata": {
    "collapsed": false,
    "ExecuteTime": {
     "end_time": "2024-09-13T15:22:13.944554600Z",
     "start_time": "2024-09-13T15:22:13.938344200Z"
    }
   },
   "id": "591d0b3e9710cbcf"
  },
  {
   "cell_type": "code",
   "execution_count": 4,
   "outputs": [],
   "source": [
    "i1=colorize(img,(255,128,0))\n",
    "#save the image\n",
    "#Image.fromarray(i1).save(\"1_color.png\")"
   ],
   "metadata": {
    "collapsed": false,
    "ExecuteTime": {
     "end_time": "2024-09-13T15:22:14.590970500Z",
     "start_time": "2024-09-13T15:22:14.542210400Z"
    }
   },
   "id": "2887c15a18eea79e"
  },
  {
   "cell_type": "code",
   "execution_count": 5,
   "outputs": [],
   "source": [
    "#scale the image and perspective transform\n",
    "def scale_img(img,scaled_size):\n",
    "\n",
    "    w,h=img.size\n",
    "    img=img.resize((scaled_size,scaled_size))\n",
    "    return img\n",
    "def horizontal_perspective_transform(img,max_offset=0.1):\n",
    "\n",
    "    h,w=img.shape[:2]\n",
    "    offset=np.random.uniform(-max_offset,max_offset)\n",
    "    x1=0\n",
    "    x2=w\n",
    "    y1=0\n",
    "    y2=h\n",
    "    x1_offset=int(x1+offset*w)\n",
    "    x2_offset=int(x2+offset*w)\n",
    "    pts1=np.float32([[x1,y1],[x2,y1],[x1,y2],[x2,y2]])\n",
    "    pts2=np.float32([[x1_offset,y1],[x2_offset,y1],[x1,y2],[x2,y2]])\n",
    "    M=cv2.getPerspectiveTransform(pts1,pts2)\n",
    "    img=cv2.warpPerspective(np.array(img),M,(w,h))\n",
    "    return Image.fromarray(img)"
   ],
   "metadata": {
    "collapsed": false,
    "ExecuteTime": {
     "end_time": "2024-09-13T15:22:15.133116500Z",
     "start_time": "2024-09-13T15:22:15.126970700Z"
    }
   },
   "id": "cc456cbf767eb5f5"
  },
  {
   "cell_type": "code",
   "execution_count": 6,
   "outputs": [],
   "source": [
    "i2=horizontal_perspective_transform(np.array(i1))\n",
    "i2.save(\"2_perspective.png\")"
   ],
   "metadata": {
    "collapsed": false,
    "ExecuteTime": {
     "end_time": "2024-09-13T15:22:16.081008900Z",
     "start_time": "2024-09-13T15:22:15.850705500Z"
    }
   },
   "id": "9f8dac855188653b"
  },
  {
   "cell_type": "code",
   "execution_count": 7,
   "outputs": [],
   "source": [
    "import cv2\n",
    "import numpy as np\n",
    "import random\n",
    "def apply_trapezoidal_perspective(img_np, max_offset_ratio=0.1):\n",
    "    \"\"\"\n",
    "    将正方形图像转为等腰梯形，左右边保持不变，上下边倾斜。\n",
    "    :param img_np: 输入图像的 NumPy 数组（RGBA 格式）\n",
    "    :param max_offset_ratio: 最大垂直方向的偏移比例，默认为图像高度的30%\n",
    "    :return: 应用透视变换后的图像 NumPy 数组\n",
    "    \"\"\"\n",
    "    h, w = img_np.shape[:2]\n",
    "\n",
    "    # 原始四个角点\n",
    "    pts1 = np.float32([[0, 0], [w, 0], [0, h], [w, h]])\n",
    "\n",
    "    # 计算最大垂直方向的偏移量\n",
    "    max_offset = h * max_offset_ratio\n",
    "\n",
    "    # 上下边进行垂直缩放，左右边保持不变\n",
    "    top_offset = np.random.uniform(0, max_offset)  # 上边垂直缩放\n",
    "    bottom_offset = np.random.uniform(0, max_offset)  # 下边垂直缩放\n",
    "\n",
    "    # 透视变换后的角点（左右边保持不变，上下边进行垂直缩放）\n",
    "    pts2 = np.float32([[0, 0],  # 左上角垂直缩放\n",
    "                       [w, top_offset],  # 右上角垂直缩放\n",
    "                       [0, h ],  # 左下角垂直缩放\n",
    "                       [w, h - bottom_offset]])  # 右下角垂直缩放\n",
    "    #maybe pt2 will vertical flip\n",
    "    pts3=np.float32([[0, top_offset],  # 左上角垂直缩放\n",
    "                       [w, 0],  # 右上角垂直缩放\n",
    "                       [0, h - bottom_offset],  # 左下角垂直缩放\n",
    "                       [w, h]])  # 右下角垂直缩放\n",
    "    # 计算透视变换矩阵\n",
    "    #random choose the pts2 or pts3\n",
    "    pts2=pts2 if random.random()>0.5 else pts3\n",
    "    M = cv2.getPerspectiveTransform(pts1, pts2)\n",
    "\n",
    "    # 应用透视变换\n",
    "    transformed_img = cv2.warpPerspective(img_np, M, (w, h))\n",
    "\n",
    "    return transformed_img\n"
   ],
   "metadata": {
    "collapsed": false,
    "ExecuteTime": {
     "end_time": "2024-09-13T15:22:16.530454Z",
     "start_time": "2024-09-13T15:22:16.524944Z"
    }
   },
   "id": "ef7bc6e6814a2a70"
  },
  {
   "cell_type": "code",
   "execution_count": 8,
   "outputs": [],
   "source": [
    "i3=apply_trapezoidal_perspective(np.array(i1))\n",
    "Image.fromarray(i3).save(\"3_camera.png\")"
   ],
   "metadata": {
    "collapsed": false,
    "ExecuteTime": {
     "end_time": "2024-09-13T15:22:17.656686900Z",
     "start_time": "2024-09-13T15:22:17.468769200Z"
    }
   },
   "id": "3c832133f2aa5dc9"
  },
  {
   "cell_type": "code",
   "execution_count": 9,
   "outputs": [],
   "source": [
    "#packed the function\n",
    "def random_transform(img,scale=0.1):\n",
    "    #angle=np.random.uniform(-max_angle,max_angle)\n",
    "    #img=random_rotate(img,angle)\n",
    "    img=horizontal_perspective_transform(np.array(img))\n",
    "    img=apply_trapezoidal_perspective(np.array(img))\n",
    "    return img"
   ],
   "metadata": {
    "collapsed": false,
    "ExecuteTime": {
     "end_time": "2024-09-13T15:22:18.116778800Z",
     "start_time": "2024-09-13T15:22:18.111625700Z"
    }
   },
   "id": "37cdd3e8eba4ad1c"
  },
  {
   "cell_type": "code",
   "execution_count": 10,
   "outputs": [],
   "source": [
    "Image.fromarray(random_transform(i1)).save(\"4_random.png\")"
   ],
   "metadata": {
    "collapsed": false,
    "ExecuteTime": {
     "end_time": "2024-09-13T15:22:19.420487700Z",
     "start_time": "2024-09-13T15:22:19.153088300Z"
    }
   },
   "id": "62a9c062ffde7123"
  },
  {
   "cell_type": "code",
   "execution_count": 11,
   "outputs": [],
   "source": [
    "def rot_pr(imgpath,max_angle=5):\n",
    "    img=Image.open(imgpath)\n",
    "    img=img.convert(\"RGBA\")\n",
    "    angle=np.random.uniform(-max_angle,max_angle)\n",
    "    img=img.rotate(angle)\n",
    "    #random color\n",
    "    color=np.random.randint(0,255,(3,))\n",
    "    img=colorize(img,color)\n",
    "    \n",
    "    img=np.array(img)\n",
    "    img=random_transform(img)\n",
    "    img=Image.fromarray(img).convert(\"RGBA\")\n",
    "    return img"
   ],
   "metadata": {
    "collapsed": false,
    "ExecuteTime": {
     "end_time": "2024-09-13T15:22:19.868732500Z",
     "start_time": "2024-09-13T15:22:19.862428Z"
    }
   },
   "id": "adb813dfd67cf6a7"
  },
  {
   "cell_type": "code",
   "execution_count": 12,
   "outputs": [
    {
     "ename": "TypeError",
     "evalue": "expected string or buffer",
     "output_type": "error",
     "traceback": [
      "\u001B[1;31m---------------------------------------------------------------------------\u001B[0m",
      "\u001B[1;31mTypeError\u001B[0m                                 Traceback (most recent call last)",
      "Cell \u001B[1;32mIn[12], line 2\u001B[0m\n\u001B[0;32m      1\u001B[0m ii\u001B[38;5;241m=\u001B[39mrot_pr(\u001B[38;5;124m\"\u001B[39m\u001B[38;5;124mpic1/2.png\u001B[39m\u001B[38;5;124m\"\u001B[39m)\n\u001B[1;32m----> 2\u001B[0m \u001B[43mImage\u001B[49m\u001B[38;5;241;43m.\u001B[39;49m\u001B[43mfromarray\u001B[49m\u001B[43m(\u001B[49m\u001B[43mii\u001B[49m\u001B[43m)\u001B[49m\u001B[38;5;241m.\u001B[39msave(\u001B[38;5;124m\"\u001B[39m\u001B[38;5;124m5_rot_pr.png\u001B[39m\u001B[38;5;124m\"\u001B[39m)\n",
      "File \u001B[1;32mF:\\Python311\\Lib\\site-packages\\PIL\\Image.py:3093\u001B[0m, in \u001B[0;36mfromarray\u001B[1;34m(obj, mode)\u001B[0m\n\u001B[0;32m   3090\u001B[0m     \u001B[38;5;28;01melse\u001B[39;00m:\n\u001B[0;32m   3091\u001B[0m         obj \u001B[38;5;241m=\u001B[39m obj\u001B[38;5;241m.\u001B[39mtostring()\n\u001B[1;32m-> 3093\u001B[0m \u001B[38;5;28;01mreturn\u001B[39;00m \u001B[43mfrombuffer\u001B[49m\u001B[43m(\u001B[49m\u001B[43mmode\u001B[49m\u001B[43m,\u001B[49m\u001B[43m \u001B[49m\u001B[43msize\u001B[49m\u001B[43m,\u001B[49m\u001B[43m \u001B[49m\u001B[43mobj\u001B[49m\u001B[43m,\u001B[49m\u001B[43m \u001B[49m\u001B[38;5;124;43m\"\u001B[39;49m\u001B[38;5;124;43mraw\u001B[39;49m\u001B[38;5;124;43m\"\u001B[39;49m\u001B[43m,\u001B[49m\u001B[43m \u001B[49m\u001B[43mrawmode\u001B[49m\u001B[43m,\u001B[49m\u001B[43m \u001B[49m\u001B[38;5;241;43m0\u001B[39;49m\u001B[43m,\u001B[49m\u001B[43m \u001B[49m\u001B[38;5;241;43m1\u001B[39;49m\u001B[43m)\u001B[49m\n",
      "File \u001B[1;32mF:\\Python311\\Lib\\site-packages\\PIL\\Image.py:3001\u001B[0m, in \u001B[0;36mfrombuffer\u001B[1;34m(mode, size, data, decoder_name, *args)\u001B[0m\n\u001B[0;32m   2999\u001B[0m \u001B[38;5;28;01mif\u001B[39;00m args[\u001B[38;5;241m0\u001B[39m] \u001B[38;5;129;01min\u001B[39;00m _MAPMODES:\n\u001B[0;32m   3000\u001B[0m     im \u001B[38;5;241m=\u001B[39m new(mode, (\u001B[38;5;241m1\u001B[39m, \u001B[38;5;241m1\u001B[39m))\n\u001B[1;32m-> 3001\u001B[0m     im \u001B[38;5;241m=\u001B[39m im\u001B[38;5;241m.\u001B[39m_new(\u001B[43mcore\u001B[49m\u001B[38;5;241;43m.\u001B[39;49m\u001B[43mmap_buffer\u001B[49m\u001B[43m(\u001B[49m\u001B[43mdata\u001B[49m\u001B[43m,\u001B[49m\u001B[43m \u001B[49m\u001B[43msize\u001B[49m\u001B[43m,\u001B[49m\u001B[43m \u001B[49m\u001B[43mdecoder_name\u001B[49m\u001B[43m,\u001B[49m\u001B[43m \u001B[49m\u001B[38;5;241;43m0\u001B[39;49m\u001B[43m,\u001B[49m\u001B[43m \u001B[49m\u001B[43margs\u001B[49m\u001B[43m)\u001B[49m)\n\u001B[0;32m   3002\u001B[0m     \u001B[38;5;28;01mif\u001B[39;00m mode \u001B[38;5;241m==\u001B[39m \u001B[38;5;124m\"\u001B[39m\u001B[38;5;124mP\u001B[39m\u001B[38;5;124m\"\u001B[39m:\n\u001B[0;32m   3003\u001B[0m         \u001B[38;5;28;01mfrom\u001B[39;00m \u001B[38;5;21;01m.\u001B[39;00m \u001B[38;5;28;01mimport\u001B[39;00m ImagePalette\n",
      "\u001B[1;31mTypeError\u001B[0m: expected string or buffer"
     ]
    }
   ],
   "source": [
    "ii=rot_pr(\"pic1/2.png\")\n",
    "Image.fromarray(ii).save(\"5_rot_pr.png\")"
   ],
   "metadata": {
    "collapsed": false,
    "ExecuteTime": {
     "end_time": "2024-09-13T15:22:21.307397700Z",
     "start_time": "2024-09-13T15:22:20.721535700Z"
    }
   },
   "id": "2eba1d12ec5ae318"
  },
  {
   "cell_type": "code",
   "execution_count": 13,
   "outputs": [],
   "source": [
    "def random_background():\n",
    "    #for yolov5 dataset, the background should be 640*640, generate the background through the random color, and the random noise or random filter\n",
    "    #generate the random color\n",
    "    color=np.random.randint(0,255,(3,))\n",
    "    img=np.ones((640,640,3),dtype=np.uint8)\n",
    "    img=img*color\n",
    "    #generate the random noise\n",
    "    noise=np.random.normal(0,64,(640,640,3))\n",
    "    img=img+noise\n",
    "    img=np.clip(img,0,255)\n",
    "    img=img.astype(np.uint8)\n",
    "    #generate the random filter\n",
    "    img=Image.fromarray(img)\n",
    "    img=img.filter(ImageFilter.GaussianBlur(radius=random.randint(0,5)))\n",
    "    return img"
   ],
   "metadata": {
    "collapsed": false,
    "ExecuteTime": {
     "end_time": "2024-09-13T15:22:21.310698400Z",
     "start_time": "2024-09-13T15:22:21.308398Z"
    }
   },
   "id": "51bc29ffd1777b54"
  },
  {
   "cell_type": "markdown",
   "source": [],
   "metadata": {
    "collapsed": false
   },
   "id": "23a3a3fc450f9cac"
  },
  {
   "cell_type": "code",
   "execution_count": 89,
   "outputs": [],
   "source": [
    "random_background().save(\"8_background.png\")"
   ],
   "metadata": {
    "collapsed": false,
    "ExecuteTime": {
     "end_time": "2024-09-11T14:02:41.469394300Z",
     "start_time": "2024-09-11T14:02:41.246691400Z"
    }
   },
   "id": "819f79607b6abc69"
  },
  {
   "cell_type": "code",
   "execution_count": 14,
   "outputs": [],
   "source": [
    "data_path=\"yolo\"\n",
    "def generate_random_yolo(type):\n",
    "    bg=random_background().convert('RGBA')\n",
    "    img=rot_pr(f\"pic1/{type-10}.png\")\n",
    "    #scale the image\n",
    "    w=random.randint(150,270)\n",
    "    h=random.randint(150,270)\n",
    "    img=img.resize((w,h))\n",
    "    #random position\n",
    "    x=random.randint(0,640-w)\n",
    "    y=random.randint(0,640-h)\n",
    "    bg.paste(img,(x,y),img)\n",
    "    id=random.randint(0,100000)\n",
    "    bg.save(f\"{data_path}/pic/{type}_{id}.png\")\n",
    "    #generate the label\n",
    "    with open(f\"{data_path}/label/{type}_{id}.txt\",\"w\") as f:\n",
    "        f.write(f\"{type} {(1.0*x+w/2)/640} {(1.0*y+h/2)/640} {w*1.0/640} {h*1.0/640}\")\n",
    "        "
   ],
   "metadata": {
    "collapsed": false,
    "ExecuteTime": {
     "end_time": "2024-09-13T15:22:31.843437Z",
     "start_time": "2024-09-13T15:22:31.837827600Z"
    }
   },
   "id": "b72f90134b70729d"
  },
  {
   "cell_type": "code",
   "execution_count": 105,
   "outputs": [],
   "source": [
    "for i in range(11,41):\n",
    "    for _ in range(4):\n",
    "        generate_random_yolo(i)"
   ],
   "metadata": {
    "collapsed": false,
    "ExecuteTime": {
     "end_time": "2024-09-11T14:21:41.226133200Z",
     "start_time": "2024-09-11T14:20:51.429264600Z"
    }
   },
   "id": "ba1760caae2b6d6f"
  },
  {
   "cell_type": "code",
   "execution_count": 38,
   "outputs": [],
   "source": [
    "def bg(bname,oid):\n",
    "    bg=Image.open(f\"background/{bname}\").convert(\"RGBA\")\n",
    "    obj=Image.open(f\"pic1/{oid}.png\").convert(\"RGBA\")\n",
    "    #resize the object and obj to 640*640\n",
    "    obj=obj.resize((640,640))\n",
    "    bg=bg.resize((640,640))\n",
    "    r_color=np.random.randint(0,255,(3,))\n",
    "    obj=colorize(obj,r_color)\n",
    "    #to image\n",
    "    obj=Image.fromarray(obj)\n",
    "    #align the object to the center of the background\n",
    "    x=(640-obj.width)//2\n",
    "    y=(640-obj.height)//2\n",
    "    bg.paste(obj,(x,y),obj)\n",
    "    bg.save(f\"pic2/{bname.split('.')[0]}_{oid}.png\")"
   ],
   "metadata": {
    "collapsed": false,
    "ExecuteTime": {
     "end_time": "2024-09-13T19:26:45.973827500Z",
     "start_time": "2024-09-13T19:26:45.965310100Z"
    }
   },
   "id": "635df9ecf7a57e6c"
  },
  {
   "cell_type": "code",
   "execution_count": 39,
   "outputs": [
    {
     "data": {
      "text/plain": "['1.jpeg', '2.jpg', '3.jpg', '4.jpg', '5.jpg']"
     },
     "execution_count": 39,
     "metadata": {},
     "output_type": "execute_result"
    }
   ],
   "source": [
    "import os\n",
    "bn=os.listdir(f\"background\")\n",
    "bn"
   ],
   "metadata": {
    "collapsed": false,
    "ExecuteTime": {
     "end_time": "2024-09-13T19:26:46.687832500Z",
     "start_time": "2024-09-13T19:26:46.681225300Z"
    }
   },
   "id": "700e9ab1650d0c36"
  },
  {
   "cell_type": "code",
   "execution_count": 40,
   "outputs": [],
   "source": [
    "bg(bn[0],11)"
   ],
   "metadata": {
    "collapsed": false,
    "ExecuteTime": {
     "end_time": "2024-09-13T19:26:48.270851700Z",
     "start_time": "2024-09-13T19:26:48.135416300Z"
    }
   },
   "id": "fc98181fcff1ff20"
  },
  {
   "cell_type": "code",
   "execution_count": 41,
   "outputs": [],
   "source": [
    "for b in bn:\n",
    "    for i in range(1,31):\n",
    "        bg(b,i)"
   ],
   "metadata": {
    "collapsed": false,
    "ExecuteTime": {
     "end_time": "2024-09-13T19:27:28.267512400Z",
     "start_time": "2024-09-13T19:27:00.844187100Z"
    }
   },
   "id": "f09b3c3eedbfd78d"
  },
  {
   "cell_type": "code",
   "execution_count": null,
   "outputs": [],
   "source": [],
   "metadata": {
    "collapsed": false
   },
   "id": "26771114f40fb85"
  }
 ],
 "metadata": {
  "kernelspec": {
   "display_name": "Python 3",
   "language": "python",
   "name": "python3"
  },
  "language_info": {
   "codemirror_mode": {
    "name": "ipython",
    "version": 2
   },
   "file_extension": ".py",
   "mimetype": "text/x-python",
   "name": "python",
   "nbconvert_exporter": "python",
   "pygments_lexer": "ipython2",
   "version": "2.7.6"
  }
 },
 "nbformat": 4,
 "nbformat_minor": 5
}
